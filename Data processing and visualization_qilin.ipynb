{
 "cells": [
  {
   "cell_type": "code",
   "execution_count": 3,
   "metadata": {},
   "outputs": [],
   "source": [
    "import pandas as pd\n",
    "articles = pd.read_csv(\"articles.CDKN2A.csv\")\n",
    "authors = pd.read_csv(\"authors.CDKN2A.csv\")\n",
    "paper = pd.read_csv(\"paper_counts.csv\")"
   ]
  },
  {
   "cell_type": "code",
   "execution_count": 4,
   "metadata": {},
   "outputs": [
    {
     "name": "stdout",
     "output_type": "stream",
     "text": [
      "          PMID                                              Title  \\\n",
      "0     10551774  Transfection of an inducible p16/CDKN2A constr...   \n",
      "1     10595918  Malignant transformation of neurofibromas in n...   \n",
      "2     10620111  Genotype/phenotype and penetrance studies in m...   \n",
      "3     10630172  The genetics of hereditary melanoma and nevi. ...   \n",
      "4     10632344  Analysis of oncogene and tumor suppressor gene...   \n",
      "...        ...                                                ...   \n",
      "3409  38067238  Validation of a Gene Expression Approach for t...   \n",
      "3410  38070141  Has-miR-300-GADD45B promotes melanoma growth v...   \n",
      "3411  38079020  \"De novo replication repair deficient glioblas...   \n",
      "3412  38091828  Dry and wet experiments reveal diagnostic clus...   \n",
      "3413  38095311  Compliant substrates mitigate the senescence a...   \n",
      "\n",
      "                                               Abstract       ISSN  \\\n",
      "0     Recent studies have shown that methylation of ...  0888-8809   \n",
      "1     Patients with neurofibromatosis 1 (NF1) are pr...  0002-9440   \n",
      "2     Patients with a family history of melanoma are...  0022-202X   \n",
      "3     Although the first English-language report of ...  0008-543X   \n",
      "4     Although common among adult intracranial neopl...  1078-0432   \n",
      "...                                                 ...        ...   \n",
      "3409  Cytological diagnosis of pleural mesothelioma ...  2072-6694   \n",
      "3410  Response to oncogenic factors like UV, GADD45 ...  1945-4589   \n",
      "3411  Glioblastoma is a clinically and molecularly h...  1432-0533   \n",
      "3412  Cuproptosis is a new manner of mitochondrial c...  1878-1705   \n",
      "3413  Mesenchymal stromal cells (MSCs) are a promisi...  1552-4965   \n",
      "\n",
      "                                                Journal  \\\n",
      "0              Molecular endocrinology (Baltimore, Md.)   \n",
      "1                     The American journal of pathology   \n",
      "2              The Journal of investigative dermatology   \n",
      "3                                                Cancer   \n",
      "4     Clinical cancer research : an official journal...   \n",
      "...                                                 ...   \n",
      "3409                                            Cancers   \n",
      "3410                                              Aging   \n",
      "3411                              Acta neuropathologica   \n",
      "3412                   International immunopharmacology   \n",
      "3413   Journal of biomedical materials research. Part A   \n",
      "\n",
      "                   Location  Year FirstAuthorForename FirstAuthorLastname  \\\n",
      "0              (13) 1801-10  1999                 S J               Frost   \n",
      "1             (155) 1879-84  1999                 G P             Nielsen   \n",
      "2               (114) 28-33  2000                 J A              Bishop   \n",
      "3              (86) 2464-77  1999                 M H              Greene   \n",
      "4               (5) 4085-90  1999                   C              Raffel   \n",
      "...                     ...   ...                 ...                 ...   \n",
      "3409                   5534  2023            Rossella               Bruno   \n",
      "3410  10.18632/aging.205276  2023                Long                Chen   \n",
      "3411                (147) 3  2023                Sara               Hadad   \n",
      "3412           (127) 111326  2023                Peng               Zhang   \n",
      "3413    10.1002/jbm.a.37657  2023          Robert C H             Gresham   \n",
      "\n",
      "     FirstAuthorInitials                             FirstAuthorAffiliation  \n",
      "0                     SJ  Centre for Cell and Molecular Medicine, School...  \n",
      "1                     GP  Molecular Neuro-Oncology Laboratory and the Ja...  \n",
      "2                     JA  ICRF Genetic Epidemiology Laboratory, Leeds, U...  \n",
      "3                     MH  Division of Hematology/Oncology, Mayo Clinic S...  \n",
      "4                      C  Department of Neurosurgery, Mayo Clinic and Fo...  \n",
      "...                  ...                                                ...  \n",
      "3409                   R  Unit of Pathological Anatomy, University Hospi...  \n",
      "3410                   L  Department of Burn Plastic and Cosmetology, Af...  \n",
      "3411                   S  Department of Neurological Surgery, University...  \n",
      "3412                   P  The Second Clinical Medical School, Guangzhou ...  \n",
      "3413                 RCH  Department of Orthopaedic Surgery, School of M...  \n",
      "\n",
      "[3414 rows x 11 columns]\n"
     ]
    }
   ],
   "source": [
    "print(articles)"
   ]
  }
 ],
 "metadata": {
  "kernelspec": {
   "display_name": "Python 3",
   "language": "python",
   "name": "python3"
  },
  "language_info": {
   "codemirror_mode": {
    "name": "ipython",
    "version": 3
   },
   "file_extension": ".py",
   "mimetype": "text/x-python",
   "name": "python",
   "nbconvert_exporter": "python",
   "pygments_lexer": "ipython3",
   "version": "3.12.0"
  }
 },
 "nbformat": 4,
 "nbformat_minor": 2
}
